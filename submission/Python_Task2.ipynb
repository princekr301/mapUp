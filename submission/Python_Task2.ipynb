{
 "cells": [
  {
   "cell_type": "code",
   "execution_count": 6,
   "id": "ec9b5268",
   "metadata": {},
   "outputs": [],
   "source": [
    "import pandas as pd\n",
    "import numpy as np"
   ]
  },
  {
   "cell_type": "code",
   "execution_count": 8,
   "id": "15524191",
   "metadata": {},
   "outputs": [],
   "source": [
    "df = pd.read_csv(\"dataset-3.csv\")"
   ]
  },
  {
   "cell_type": "code",
   "execution_count": 10,
   "id": "3f438bcc",
   "metadata": {},
   "outputs": [
    {
     "data": {
      "text/html": [
       "<div>\n",
       "<style scoped>\n",
       "    .dataframe tbody tr th:only-of-type {\n",
       "        vertical-align: middle;\n",
       "    }\n",
       "\n",
       "    .dataframe tbody tr th {\n",
       "        vertical-align: top;\n",
       "    }\n",
       "\n",
       "    .dataframe thead th {\n",
       "        text-align: right;\n",
       "    }\n",
       "</style>\n",
       "<table border=\"1\" class=\"dataframe\">\n",
       "  <thead>\n",
       "    <tr style=\"text-align: right;\">\n",
       "      <th></th>\n",
       "      <th>id_start</th>\n",
       "      <th>id_end</th>\n",
       "      <th>distance</th>\n",
       "    </tr>\n",
       "  </thead>\n",
       "  <tbody>\n",
       "    <tr>\n",
       "      <th>0</th>\n",
       "      <td>1001400</td>\n",
       "      <td>1001402</td>\n",
       "      <td>9.7</td>\n",
       "    </tr>\n",
       "    <tr>\n",
       "      <th>1</th>\n",
       "      <td>1001402</td>\n",
       "      <td>1001404</td>\n",
       "      <td>20.2</td>\n",
       "    </tr>\n",
       "    <tr>\n",
       "      <th>2</th>\n",
       "      <td>1001404</td>\n",
       "      <td>1001406</td>\n",
       "      <td>16.0</td>\n",
       "    </tr>\n",
       "    <tr>\n",
       "      <th>3</th>\n",
       "      <td>1001406</td>\n",
       "      <td>1001408</td>\n",
       "      <td>21.7</td>\n",
       "    </tr>\n",
       "    <tr>\n",
       "      <th>4</th>\n",
       "      <td>1001408</td>\n",
       "      <td>1001410</td>\n",
       "      <td>11.1</td>\n",
       "    </tr>\n",
       "  </tbody>\n",
       "</table>\n",
       "</div>"
      ],
      "text/plain": [
       "   id_start   id_end  distance\n",
       "0   1001400  1001402       9.7\n",
       "1   1001402  1001404      20.2\n",
       "2   1001404  1001406      16.0\n",
       "3   1001406  1001408      21.7\n",
       "4   1001408  1001410      11.1"
      ]
     },
     "execution_count": 10,
     "metadata": {},
     "output_type": "execute_result"
    }
   ],
   "source": [
    "df.head()"
   ]
  },
  {
   "cell_type": "markdown",
   "id": "a123dfd7",
   "metadata": {},
   "source": [
    "# Question 1: Distance Matrix Calculation\n",
    "Create a function named calculate_distance_matrix that takes the dataset-3.csv as input and generates a DataFrame representing distances between IDs.\n",
    "\n",
    "The resulting DataFrame should have cumulative distances along known routes, with diagonal values set to 0. If distances between toll locations A to B and B to C are known, then the distance from A to C should be the sum of these distances. Ensure the matrix is symmetric, accounting for bidirectional distances between toll locations (i.e. A to B is equal to B to A)"
   ]
  },
  {
   "cell_type": "code",
   "execution_count": 13,
   "id": "7fa74de7",
   "metadata": {},
   "outputs": [],
   "source": [
    "# import pandas as pd\n",
    "\n",
    "# def calculate_distance_matrix(input_csv):\n",
    "#     # Read the CSV file into a DataFrame\n",
    "#     df = pd.read_csv(input_csv, index_col='id_start')\n",
    "\n",
    "#     # Create a dictionary to store distances between toll locations\n",
    "#     distances = {}\n",
    "\n",
    "#     # Iterate through the DataFrame to populate the distances dictionary\n",
    "#     for source in df.index:\n",
    "#         for destination in df.index:\n",
    "#             if source != destination:\n",
    "#                 # Check if the distance is already calculated\n",
    "#                 if (source, destination) not in distances:\n",
    "#                     # Bidirectional distance between toll locations\n",
    "#                     distance_forward = df.loc[source, destination]\n",
    "#                     distance_backward = df.loc[destination, source]\n",
    "\n",
    "#                     # Calculate cumulative distance\n",
    "#                     total_distance = distance_forward + distance_backward\n",
    "\n",
    "#                     # Update distances dictionary\n",
    "#                     distances[(source, destination)] = total_distance\n",
    "\n",
    "#     # Create a DataFrame from the distances dictionary\n",
    "#     distance_matrix = pd.DataFrame(index=df.index, columns=df.index)\n",
    "\n",
    "#     # Populate the distance matrix\n",
    "#     for source in df.index:\n",
    "#         for destination in df.index:\n",
    "#             if source == destination:\n",
    "#                 distance_matrix.loc[source, destination] = 0\n",
    "#             else:\n",
    "#                 distance_matrix.loc[source, destination] = distances.get((source, destination), distances.get((destination, source), float('inf')))\n",
    "\n",
    "#     return distance_matrix\n",
    "\n",
    "# # Example usage\n",
    "# input_csv = 'dataset-3.csv'\n",
    "# resulting_matrix = calculate_distance_matrix(input_csv)\n",
    "# resulting_matrix\n"
   ]
  },
  {
   "cell_type": "code",
   "execution_count": null,
   "id": "af04aae8",
   "metadata": {},
   "outputs": [],
   "source": []
  },
  {
   "cell_type": "code",
   "execution_count": null,
   "id": "27644549",
   "metadata": {},
   "outputs": [],
   "source": []
  },
  {
   "cell_type": "code",
   "execution_count": null,
   "id": "96b7c876",
   "metadata": {},
   "outputs": [],
   "source": []
  },
  {
   "cell_type": "markdown",
   "id": "bbfbbe3f",
   "metadata": {},
   "source": [
    "# Question 2: Unroll Distance Matrix\n",
    "Create a function unroll_distance_matrix that takes the DataFrame created in Question 1. The resulting DataFrame should have three columns: columns id_start, id_end, and distance.\n",
    "\n",
    "All the combinations except for same id_start to id_end must be present in the rows with their distance values from the input DataFrame."
   ]
  },
  {
   "cell_type": "code",
   "execution_count": null,
   "id": "cecbee44",
   "metadata": {},
   "outputs": [],
   "source": []
  },
  {
   "cell_type": "code",
   "execution_count": null,
   "id": "65120b9c",
   "metadata": {},
   "outputs": [],
   "source": []
  },
  {
   "cell_type": "code",
   "execution_count": null,
   "id": "81164343",
   "metadata": {},
   "outputs": [],
   "source": []
  },
  {
   "cell_type": "code",
   "execution_count": null,
   "id": "9a09294b",
   "metadata": {},
   "outputs": [],
   "source": []
  },
  {
   "cell_type": "markdown",
   "id": "95af473b",
   "metadata": {},
   "source": [
    "# Question 3: Finding IDs within Percentage Threshold\n",
    "Create a function find_ids_within_ten_percentage_threshold that takes the DataFrame created in Question 2 and a reference value from the id_start column as an integer.\n",
    "\n",
    "Calculate average distance for the reference value given as an input and return a sorted list of values from id_start column which lie within 10% (including ceiling and floor) of the reference value's average."
   ]
  },
  {
   "cell_type": "code",
   "execution_count": null,
   "id": "6ab6c2da",
   "metadata": {},
   "outputs": [],
   "source": []
  },
  {
   "cell_type": "code",
   "execution_count": null,
   "id": "556ec6fe",
   "metadata": {},
   "outputs": [],
   "source": []
  },
  {
   "cell_type": "markdown",
   "id": "0949c907",
   "metadata": {},
   "source": [
    "# Question 4: Calculate Toll Rate\n",
    "Create a function calculate_toll_rate that takes the DataFrame created in Question 2 as input and calculates toll rates based on vehicle types.\n",
    "\n",
    "The resulting DataFrame should add 5 columns to the input DataFrame: moto, car, rv, bus, and truck with their respective rate coefficients. The toll rates should be calculated by multiplying the distance with the given rate coefficients for each vehicle type:\n",
    "\n",
    "* 0.8 for moto\n",
    "* 1.2 for car\n",
    "* 1.5 for rv\n",
    "* 2.2 for bus\n",
    "* 3.6 for truck"
   ]
  },
  {
   "cell_type": "code",
   "execution_count": null,
   "id": "f402db1e",
   "metadata": {},
   "outputs": [],
   "source": []
  },
  {
   "cell_type": "code",
   "execution_count": null,
   "id": "a220fcf4",
   "metadata": {},
   "outputs": [],
   "source": []
  },
  {
   "cell_type": "code",
   "execution_count": null,
   "id": "211c5859",
   "metadata": {},
   "outputs": [],
   "source": []
  },
  {
   "cell_type": "markdown",
   "id": "5c74ead8",
   "metadata": {},
   "source": [
    "# Question 5: Calculate Time-Based Toll Rates\n",
    "Create a function named calculate_time_based_toll_rates that takes the DataFrame created in Question 3 as input and calculates toll rates for different time intervals within a day.\n",
    "\n",
    "The resulting DataFrame should have these five columns added to the input: start_day, start_time, end_day, and end_time.\n",
    "\n",
    "* start_day, end_day must be strings with day values (from Monday to Sunday in proper case)\n",
    "* start_time and end_time must be of type datetime.time() with the values from time range given below.\n",
    "\n",
    "Modify the values of vehicle columns according to the following time ranges:\n",
    "Weekdays (Monday - Friday):\n",
    "\n",
    "* From 00:00:00 to 10:00:00: Apply a discount factor of 0.8\n",
    "* From 10:00:00 to 18:00:00: Apply a discount factor of 1.2\n",
    "* From 18:00:00 to 23:59:59: Apply a discount factor of 0.8\n",
    "* Weekends (Saturday and Sunday):\n",
    "\n",
    "+ Apply a constant discount factor of 0.7 for all times.\n",
    "\n",
    "For each unique (id_start, id_end) pair, cover a full 24-hour period (from 12:00:00 AM to 11:59:59 PM) and span all 7 days of the week (from Monday to Sunday)."
   ]
  },
  {
   "cell_type": "code",
   "execution_count": null,
   "id": "55aee003",
   "metadata": {},
   "outputs": [],
   "source": []
  }
 ],
 "metadata": {
  "kernelspec": {
   "display_name": "Python 3 (ipykernel)",
   "language": "python",
   "name": "python3"
  },
  "language_info": {
   "codemirror_mode": {
    "name": "ipython",
    "version": 3
   },
   "file_extension": ".py",
   "mimetype": "text/x-python",
   "name": "python",
   "nbconvert_exporter": "python",
   "pygments_lexer": "ipython3",
   "version": "3.10.9"
  }
 },
 "nbformat": 4,
 "nbformat_minor": 5
}
